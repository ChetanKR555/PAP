{
 "cells": [
  {
   "cell_type": "code",
   "execution_count": 2,
   "metadata": {},
   "outputs": [
    {
     "name": "stdout",
     "output_type": "stream",
     "text": [
      "2 : 3 : 8\n"
     ]
    }
   ],
   "source": [
    "class Time:\n",
    "    \"\"\"\n",
    "    attributes:hours,minutes,seconds\n",
    "    \"\"\"\n",
    "def add_time(t1,t2):\n",
    "    t=Time()\n",
    "    t.seconds=t1.seconds+t2.seconds\n",
    "    t.minutes=t1.minutes+t2.minutes \n",
    "    t.hours=t1.hours+t2.hours\n",
    "    \n",
    "    if t.seconds>=60:\n",
    "        t.seconds-=60\n",
    "        t.minutes+=1\n",
    "        \n",
    "    if t.minutes>=60:\n",
    "        t.minutes-=60\n",
    "        t.hours+=1\n",
    "   \n",
    "    return t\n",
    "\n",
    "def increment(t,seconds):\n",
    "    t.seconds=t.seconds+seconds\n",
    "    while t.seconds>=60:\n",
    "        t.minutes+=1\n",
    "        t.seconds-=60\n",
    "    while t.minutes>=60:\n",
    "        t.minutes-=60\n",
    "        t.hours+=1\n",
    "    \n",
    "    \n",
    "def print_time(t):\n",
    "    print(t.hours,\":\",t.minutes,\":\",t.seconds)\n",
    "t1=Time()\n",
    "t1.hours=1\n",
    "t1.minutes=59\n",
    "t1.seconds=48\n",
    "t2=Time()\n",
    "t2.hours=1\n",
    "t2.minutes=39\n",
    "t2.seconds=26\n",
    "#t=add_time(t1,t2)\n",
    "increment(t1,200)\n",
    "print_time(t1)\n",
    "#print_time(t2)\n",
    "#print_time(t)\n",
    "    \n",
    "    "
   ]
  },
  {
   "cell_type": "code",
   "execution_count": 7,
   "metadata": {},
   "outputs": [
    {
     "name": "stdout",
     "output_type": "stream",
     "text": [
      "01:12:00\n",
      "After\n"
     ]
    }
   ],
   "source": [
    "class Time:\n",
    "    \"\"\"\n",
    "    attributes:hours,minutes,seconds\n",
    "        \n",
    "    \"\"\"\n",
    "    def __init__(self,h=0,m=0,s=0):\n",
    "        self.hours=h\n",
    "        self.minutes=m\n",
    "        self.seconds=s\n",
    "    def validate_time(self):\n",
    "        if self.hours<0 or self.hours>=24 or self.minutes<0 or self.minutes>=60 or  self.seconds<0 or self.seconds>=60:\n",
    "            return False\n",
    "        return True\n",
    "    def is_after(self,other):\n",
    "        i1=self.time_to_int()\n",
    "        i2=other.time_to_int()\n",
    "        if i1>i2:\n",
    "            return True\n",
    "        else:\n",
    "            return False\n",
    "        \n",
    "    def time_to_int(t):\n",
    "        minutes=t.hours*60+t.minutes\n",
    "        seconds=minutes*60+t.seconds\n",
    "        return seconds\n",
    "    def int_to_time(t,seconds):\n",
    "        t=Time()\n",
    "        minutes,t.seconds=divmod(seconds,60)\n",
    "        t.hours,t.minutes=divmod(minutes,60)\n",
    "        return t\n",
    "    def __str__(self):\n",
    "        return('%.2d:%.2d:%.2d'%(self.hours,self.minutes,self.seconds))\n",
    "    def __add__(self,t2):\n",
    "        if isinstance(t2,Time):\n",
    "            i1=self.time_to_int()\n",
    "            i2=t2.time_to_int()\n",
    "            sm=i1+i2\n",
    "        else:\n",
    "            sm=self.time_to_int()+t2\n",
    "        return self.int_to_time(sm)\n",
    "    \n",
    "    def __radd__(self,t2):\n",
    "        return self.__add__(t2)\n",
    "\n",
    "t=Time(1,10,20)\n",
    "t1=Time(1,20,49)\n",
    "\n",
    "if t.validate_time() and t1.validate_time():\n",
    "    ts=100+t\n",
    "    print(ts)\n",
    "    if t1.is_after(t):\n",
    "        print('After')\n",
    "    else:\n",
    "        print('Before')\n",
    "else:\n",
    "    print('invald')"
   ]
  },
  {
   "cell_type": "code",
   "execution_count": 13,
   "metadata": {},
   "outputs": [
    {
     "name": "stdout",
     "output_type": "stream",
     "text": [
      "{'s': 2, 'a': 1, 'n': 1, 'u': 1, 'i': 1}\n",
      "{'sansui': 2, 'samsung': 1, 'sony': 1}\n"
     ]
    }
   ],
   "source": [
    "def histogram(s):\n",
    "    d=dict()\n",
    "    for c in s:\n",
    "        if c in d:\n",
    "            d[c]+=1\n",
    "        else:\n",
    "            d[c]=1\n",
    "    return d\n",
    "print(histogram(\"sansui\"))\n",
    "print(histogram((\"sansui\",\"samsung\",\"sansui\",\"sony\")))"
   ]
  },
  {
   "cell_type": "code",
   "execution_count": 14,
   "metadata": {},
   "outputs": [
    {
     "data": {
      "text/plain": [
       "{'hours': 1, 'minutes': 10, 'seconds': 20}"
      ]
     },
     "execution_count": 14,
     "metadata": {},
     "output_type": "execute_result"
    }
   ],
   "source": [
    "vars(t)"
   ]
  },
  {
   "cell_type": "code",
   "execution_count": 21,
   "metadata": {},
   "outputs": [
    {
     "name": "stdout",
     "output_type": "stream",
     "text": [
      "x 2\n",
      "y 3\n"
     ]
    }
   ],
   "source": [
    "class Point:\n",
    "    \"\"\"\n",
    "    attributes: x,y\n",
    "    \"\"\"\n",
    "    def __init__(self,x=0,y=0):\n",
    "        self.x=x\n",
    "        self.y=y\n",
    "        \n",
    "def print_attributes(o):\n",
    "    for a in vars(o):\n",
    "        print(a,getattr(o,a))\n",
    "p=Point(2,3)\n",
    "print_attributes(p)"
   ]
  },
  {
   "cell_type": "code",
   "execution_count": null,
   "metadata": {},
   "outputs": [],
   "source": []
  }
 ],
 "metadata": {
  "kernelspec": {
   "display_name": "Python 3",
   "language": "python",
   "name": "python3"
  },
  "language_info": {
   "codemirror_mode": {
    "name": "ipython",
    "version": 3
   },
   "file_extension": ".py",
   "mimetype": "text/x-python",
   "name": "python",
   "nbconvert_exporter": "python",
   "pygments_lexer": "ipython3",
   "version": "3.8.1"
  }
 },
 "nbformat": 4,
 "nbformat_minor": 4
}
