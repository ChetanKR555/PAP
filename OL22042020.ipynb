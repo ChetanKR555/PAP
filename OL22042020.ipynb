{
 "cells": [
  {
   "cell_type": "code",
   "execution_count": 2,
   "metadata": {},
   "outputs": [
    {
     "name": "stdout",
     "output_type": "stream",
     "text": [
      "2 : 3 : 8\n"
     ]
    }
   ],
   "source": [
    "class Time:\n",
    "    \"\"\"\n",
    "    attributes:hours,minutes,seconds\n",
    "    \"\"\"\n",
    "def add_time(t1,t2):\n",
    "    t=Time()\n",
    "    t.seconds=t1.seconds+t2.seconds\n",
    "    t.minutes=t1.minutes+t2.minutes \n",
    "    t.hours=t1.hours+t2.hours\n",
    "    \n",
    "    if t.seconds>=60:\n",
    "        t.seconds-=60\n",
    "        t.minutes+=1\n",
    "        \n",
    "    if t.minutes>=60:\n",
    "        t.minutes-=60\n",
    "        t.hours+=1\n",
    "   \n",
    "    return t\n",
    "\n",
    "def increment(t,seconds):\n",
    "    t.seconds=t.seconds+seconds\n",
    "    while t.seconds>=60:\n",
    "        t.minutes+=1\n",
    "        t.seconds-=60\n",
    "    while t.minutes>=60:\n",
    "        t.minutes-=60\n",
    "        t.hours+=1\n",
    "    \n",
    "    \n",
    "def print_time(t):\n",
    "    print(t.hours,\":\",t.minutes,\":\",t.seconds)\n",
    "t1=Time()\n",
    "t1.hours=1\n",
    "t1.minutes=59\n",
    "t1.seconds=48\n",
    "t2=Time()\n",
    "t2.hours=1\n",
    "t2.minutes=39\n",
    "t2.seconds=26\n",
    "#t=add_time(t1,t2)\n",
    "increment(t1,200)\n",
    "print_time(t1)\n",
    "#print_time(t2)\n",
    "#print_time(t)\n",
    "    \n",
    "    "
   ]
  },
  {
   "cell_type": "code",
   "execution_count": 10,
   "metadata": {},
   "outputs": [
    {
     "name": "stdout",
     "output_type": "stream",
     "text": [
      "02:51:09\n"
     ]
    }
   ],
   "source": [
    "class Time:\n",
    "    \"\"\"\n",
    "    attributes:hours,minutes,seconds\n",
    "        \n",
    "    \"\"\"\n",
    "    def time_to_int(t):\n",
    "        minutes=t.hours*60+t.minutes\n",
    "        seconds=minutes*60+t.seconds\n",
    "        return seconds\n",
    "    def int_to_time(t,seconds):\n",
    "        t=Time()\n",
    "        minutes,t.seconds=divmod(seconds,60)\n",
    "        t.hours,t.minutes=divmod(minutes,60)\n",
    "        return t\n",
    "    def print_time(self):\n",
    "        print('%.2d:%.2d:%.2d'%(self.hours,self.minutes,self.seconds))\n",
    "    def add_time(self,t2):\n",
    "        i1=self.time_to_int()\n",
    "        i2=t2.time_to_int()\n",
    "        sm=i1+i2\n",
    "        return self.int_to_time(sm)\n",
    "    def increment(self,sec):\n",
    "        i=self.time_to_int()+sec\n",
    "        return self.int_to_time(i)\n",
    "    \n",
    "\n",
    "t=Time()\n",
    "t.hours=1\n",
    "t.minutes=10\n",
    "t.seconds=20\n",
    "t1=Time()\n",
    "t1.hours=1\n",
    "t1.minutes=40\n",
    "t1.seconds=49\n",
    "ts=t.add_time(t1)\n",
    "ts.print_time()\n"
   ]
  },
  {
   "cell_type": "code",
   "execution_count": null,
   "metadata": {},
   "outputs": [],
   "source": []
  }
 ],
 "metadata": {
  "kernelspec": {
   "display_name": "Python 3",
   "language": "python",
   "name": "python3"
  },
  "language_info": {
   "codemirror_mode": {
    "name": "ipython",
    "version": 3
   },
   "file_extension": ".py",
   "mimetype": "text/x-python",
   "name": "python",
   "nbconvert_exporter": "python",
   "pygments_lexer": "ipython3",
   "version": "3.8.1"
  }
 },
 "nbformat": 4,
 "nbformat_minor": 4
}
