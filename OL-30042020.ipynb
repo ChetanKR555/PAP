{
 "cells": [
  {
   "cell_type": "code",
   "execution_count": 32,
   "metadata": {},
   "outputs": [
    {
     "name": "stdout",
     "output_type": "stream",
     "text": [
      "4JN19CS001,Raj,CSE,JNNCE\n"
     ]
    }
   ],
   "source": [
    "class Student:\n",
    "    \"\"\"\n",
    "    attributes:usn,name\n",
    "    \"\"\"\n",
    "    def __init__(self,usn=\"\",name=\"\"):\n",
    "        self.usn=usn\n",
    "        self.name=name\n",
    "    def __str__(self):\n",
    "        return (\"%s,%s\"%(self.usn,self.name))\n",
    "\n",
    "class College(Student):\n",
    "    \"\"\"\n",
    "    attributes:branch,cname\n",
    "    \"\"\"\n",
    "    def __init__(self,usn=\"\",name=\"\",branch=\"\",cname=\"\"):\n",
    "        Student.__init__(self,usn,name)\n",
    "        self.branch=branch\n",
    "        self.cname=cname\n",
    "       \n",
    "    def __str__(self):\n",
    "        return (\"%s,%s,%s\"%(Student.__str__(self),self.branch,self.cname))\n",
    "\n",
    "\n",
    "\n",
    "c=College(\"4JN19CS001\",\"Raj\",\"CSE\",\"JNNCE\")\n",
    "print(c)"
   ]
  },
  {
   "cell_type": "code",
   "execution_count": 34,
   "metadata": {},
   "outputs": [
    {
     "name": "stdout",
     "output_type": "stream",
     "text": [
      "4JN19CS001,Raj,CSE,JNNCE,VTU\n"
     ]
    }
   ],
   "source": [
    "class Student:\n",
    "    \"\"\"\n",
    "    attributes:usn,name\n",
    "    \"\"\"\n",
    "    def __init__(self,usn=\"\",name=\"\"):\n",
    "        self.usn=usn\n",
    "        self.name=name\n",
    "    def __str__(self):\n",
    "        return (\"%s,%s\"%(self.usn,self.name))\n",
    "\n",
    "class College(Student):\n",
    "    \"\"\"\n",
    "    attributes:branch,cname\n",
    "    \"\"\"\n",
    "    def __init__(self,usn=\"\",name=\"\",branch=\"\",cname=\"\"):\n",
    "        Student.__init__(self,usn,name)\n",
    "        self.branch=branch\n",
    "        self.cname=cname\n",
    "       \n",
    "    def __str__(self):\n",
    "        return (\"%s,%s,%s\"%(Student.__str__(self),self.branch,self.cname))\n",
    "\n",
    "class University(College):\n",
    "    \"\"\"\n",
    "    attributes:uname\n",
    "    \"\"\"\n",
    "    def __init__(self,usn=\"\",name=\"\",branch=\"\",cname=\"\",uname=\"\"):\n",
    "        College.__init__(self,usn,name,branch,cname)\n",
    "        self.uname=uname\n",
    "       \n",
    "    def __str__(self):\n",
    "        return (\"%s,%s\"%(College.__str__(self),self.uname))\n",
    "\n",
    "\n",
    "\n",
    "c=University(\"4JN19CS001\",\"Raj\",\"CSE\",\"JNNCE\",\"VTU\")\n",
    "print(c)"
   ]
  },
  {
   "cell_type": "code",
   "execution_count": 36,
   "metadata": {},
   "outputs": [
    {
     "name": "stdout",
     "output_type": "stream",
     "text": [
      "Meow ate cat food\n",
      "Ranger ate dog food\n",
      "Meow shreds pen \n",
      "Ranger fetched ball \n"
     ]
    }
   ],
   "source": [
    "class Animal:\n",
    "    def __init__(self,name):\n",
    "        self.name=name\n",
    "    def eat(self,food):\n",
    "        print('%s ate %s'%(self.name,food))\n",
    "class Dog(Animal):\n",
    "    def fetch(self,thing):\n",
    "        print('%s fetched %s '%(self.name,thing))\n",
    "\n",
    "class Cat(Animal):\n",
    "    def shred(self,thing):\n",
    "        print('%s shreds %s '%(self.name,thing))\n",
    "c=Cat('Meow')\n",
    "d=Dog('Ranger')\n",
    "c.eat('cat food')\n",
    "#eat is a polymorphic method\n",
    "d.eat('dog food')\n",
    "c.shred('pen')\n",
    "d.fetch('ball')"
   ]
  },
  {
   "cell_type": "code",
   "execution_count": 40,
   "metadata": {},
   "outputs": [
    {
     "name": "stdout",
     "output_type": "stream",
     "text": [
      "Father attributes\n"
     ]
    }
   ],
   "source": [
    "class Mother:\n",
    "    def disp(self):\n",
    "        print('Mother attributes')\n",
    "        \n",
    "class Father:\n",
    "    def disp(self):\n",
    "        print('Father attributes')\n",
    "class Son(Father,Mother):\n",
    "    pass\n",
    "s=Son()\n",
    "s.disp()"
   ]
  },
  {
   "cell_type": "code",
   "execution_count": null,
   "metadata": {},
   "outputs": [],
   "source": []
  }
 ],
 "metadata": {
  "kernelspec": {
   "display_name": "Python 3",
   "language": "python",
   "name": "python3"
  },
  "language_info": {
   "codemirror_mode": {
    "name": "ipython",
    "version": 3
   },
   "file_extension": ".py",
   "mimetype": "text/x-python",
   "name": "python",
   "nbconvert_exporter": "python",
   "pygments_lexer": "ipython3",
   "version": "3.8.1"
  }
 },
 "nbformat": 4,
 "nbformat_minor": 4
}
