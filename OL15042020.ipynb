{
 "cells": [
  {
   "cell_type": "code",
   "execution_count": 3,
   "metadata": {},
   "outputs": [
    {
     "name": "stdout",
     "output_type": "stream",
     "text": [
      "5.830951894845301\n"
     ]
    }
   ],
   "source": [
    "import math\n",
    "class Point:\n",
    "    \"\"\"\n",
    "    attributes:x,y\n",
    "    \"\"\"\n",
    "#function to print a point\n",
    "def  print_point(p):\n",
    "    print('(%g,%g)'%(p.x,p.y))\n",
    "\n",
    "#function to compute distance between 2 points\n",
    "def find_distance(p1,p2):\n",
    "    return math.sqrt((p2.x-p1.x)**2+(p2.y-p1.y)**2)\n",
    "\n",
    "p1=Point()\n",
    "p1.x=-4\n",
    "p1.y=-1\n",
    "p2=Point()\n",
    "p2.x=1\n",
    "p2.y=2\n",
    "dist=find_distance(p2,p1)\n",
    "print(dist)\n"
   ]
  },
  {
   "cell_type": "code",
   "execution_count": 20,
   "metadata": {},
   "outputs": [
    {
     "name": "stdout",
     "output_type": "stream",
     "text": [
      "3 6\n",
      "6 12\n"
     ]
    }
   ],
   "source": [
    "class Point:\n",
    "    \"\"\"\n",
    "    attributes:x,y\n",
    "    \"\"\"\n",
    "class Rectangle:\n",
    "    \"\"\"\n",
    "    attributes:corner,length,breadth\n",
    "    \"\"\"\n",
    "#function to print a point\n",
    "def  print_point(p):\n",
    "    print('(%g,%g)'%(p.x,p.y))\n",
    "    \n",
    "def compute_center(r):\n",
    "    p=Point()\n",
    "    p.x=r.corner.x+r.length/2\n",
    "    p.y=r.corner.y+r.breadth/2\n",
    "    return p\n",
    "    \n",
    "def print_Rectangle(r):\n",
    "    print('Length=',r.length,' Breadth=',r.breadth)\n",
    "def resize(r,nlength,nbreadth):\n",
    "    r.length+=nlength\n",
    "    r.breadth+=nbreadth\n",
    "r=Rectangle()\n",
    "r.length=3\n",
    "r.breadth=6\n",
    "r.corner=Point()\n",
    "r.corner.x=2\n",
    "r.corner.y=2\n",
    "print(r.length,r.breadth)\n",
    "resize(r,3,6)\n",
    "print(r.length,r.breadth)"
   ]
  },
  {
   "cell_type": "code",
   "execution_count": 28,
   "metadata": {},
   "outputs": [
    {
     "name": "stdout",
     "output_type": "stream",
     "text": [
      "(4,6)\n",
      "(4,6)\n"
     ]
    },
    {
     "data": {
      "text/plain": [
       "True"
      ]
     },
     "execution_count": 28,
     "metadata": {},
     "output_type": "execute_result"
    }
   ],
   "source": [
    "p=Point()\n",
    "p.x=3\n",
    "p.y=6\n",
    "p1=p\n",
    "p.x=4\n",
    "print_point(p)\n",
    "print_point(p1)\n",
    "p is p1"
   ]
  },
  {
   "cell_type": "code",
   "execution_count": 34,
   "metadata": {},
   "outputs": [
    {
     "name": "stdout",
     "output_type": "stream",
     "text": [
      "(4,6)\n",
      "(3,6)\n"
     ]
    },
    {
     "data": {
      "text/plain": [
       "False"
      ]
     },
     "execution_count": 34,
     "metadata": {},
     "output_type": "execute_result"
    }
   ],
   "source": [
    "import copy\n",
    "p=Point()\n",
    "p.x=3\n",
    "p.y=6\n",
    "p1=copy.copy(p)\n",
    "p.x=4\n",
    "print_point(p)\n",
    "print_point(p1)\n",
    "p is p1\n",
    "isinstance(p,Rectangle)\n",
    "hasattr(p,'z')"
   ]
  },
  {
   "cell_type": "code",
   "execution_count": 27,
   "metadata": {},
   "outputs": [
    {
     "name": "stdout",
     "output_type": "stream",
     "text": [
      "(2,2)\n",
      "(3,2)\n",
      "3 4\n"
     ]
    }
   ],
   "source": [
    "import copy\n",
    "r=Rectangle()\n",
    "r.length=2\n",
    "r.breadth=3\n",
    "r.corner=Point()\n",
    "r.corner.x=2\n",
    "r.corner.y=2\n",
    "#r1=copy.copy(r)\n",
    "r1=copy.deepcopy(r)\n",
    "r1.corner.x=3\n",
    "r1.breadth=4\n",
    "print_point(r.corner)\n",
    "print_point(r1.corner)\n",
    "print(r.breadth,r1.breadth)"
   ]
  },
  {
   "cell_type": "code",
   "execution_count": null,
   "metadata": {},
   "outputs": [],
   "source": []
  }
 ],
 "metadata": {
  "kernelspec": {
   "display_name": "Python 3",
   "language": "python",
   "name": "python3"
  },
  "language_info": {
   "codemirror_mode": {
    "name": "ipython",
    "version": 3
   },
   "file_extension": ".py",
   "mimetype": "text/x-python",
   "name": "python",
   "nbconvert_exporter": "python",
   "pygments_lexer": "ipython3",
   "version": "3.8.1"
  }
 },
 "nbformat": 4,
 "nbformat_minor": 4
}
