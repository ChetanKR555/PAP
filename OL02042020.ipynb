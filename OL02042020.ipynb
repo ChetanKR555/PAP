{
 "cells": [
  {
   "cell_type": "code",
   "execution_count": 22,
   "metadata": {},
   "outputs": [
    {
     "name": "stdout",
     "output_type": "stream",
     "text": [
      "syllabus\n",
      "twenty\n",
      "finish\n",
      "days\n",
      "one\n",
      "in\n"
     ]
    }
   ],
   "source": [
    "s=\"finish syllabus in twenty one days\"\n",
    "l=list()\n",
    "words=s.split()\n",
    "for w in words:\n",
    "    l.append((len(w),w))\n",
    "l.sort(reverse=True)\n",
    "for (a,b) in l:\n",
    "    print(b)"
   ]
  },
  {
   "cell_type": "code",
   "execution_count": 28,
   "metadata": {},
   "outputs": [
    {
     "name": "stdout",
     "output_type": "stream",
     "text": [
      "Before 2 3\n",
      "After 3 2\n"
     ]
    }
   ],
   "source": [
    "a=2\n",
    "b=3\n",
    "print('Before',a,b)\n",
    "(a,b)=(b,a)\n",
    "print('After',a,b)"
   ]
  },
  {
   "cell_type": "code",
   "execution_count": 33,
   "metadata": {},
   "outputs": [
    {
     "name": "stdout",
     "output_type": "stream",
     "text": [
      "Blore 29\n",
      "Smg 34\n",
      "Bdvt 36\n",
      "Delhi 42\n"
     ]
    }
   ],
   "source": [
    "d={'Smg':34,'Bdvt':36,'Blore':29,'Delhi':42}\n",
    "l=list()\n",
    "for k,v in d.items():\n",
    "    l.append((v,k))\n",
    "l.sort()\n",
    "for k,v in l:\n",
    "    print(v,k)"
   ]
  },
  {
   "cell_type": "code",
   "execution_count": 38,
   "metadata": {},
   "outputs": [
    {
     "name": "stdout",
     "output_type": "stream",
     "text": [
      "i 61\n",
      "and 42\n",
      "romeo 40\n",
      "to 34\n",
      "the 34\n",
      "thou 32\n",
      "juliet 32\n",
      "that 30\n",
      "my 29\n",
      "thee 24\n"
     ]
    }
   ],
   "source": [
    "import string\n",
    "fh=open('romeo-full.txt')\n",
    "d=dict()\n",
    "for line in fh:\n",
    "    line=line.rstrip()\n",
    "    line=line.lower()\n",
    "    line=line.translate(line.maketrans('','',string.punctuation))\n",
    "    words=line.split()\n",
    "    for w in words:\n",
    "        d[w]=d.get(w,0)+1\n",
    "fh.close()\n",
    "l=list()\n",
    "for k,v in d.items():\n",
    "    l.append((v,k))\n",
    "l.sort(reverse=True)\n",
    "for v,k in l[:10]:\n",
    "    print(k,v)\n",
    "        \n",
    "    "
   ]
  },
  {
   "cell_type": "code",
   "execution_count": 40,
   "metadata": {},
   "outputs": [
    {
     "name": "stdout",
     "output_type": "stream",
     "text": [
      "jnnce cse 490\n",
      "jnnce ise 450\n",
      "jnnce mba 250\n"
     ]
    }
   ],
   "source": [
    "d={(\"jnnce\",\"cse\"):490,(\"jnnce\",\"ise\"):450,(\"jnnce\",\"mba\"):250}\n",
    "for k,v in d:\n",
    "    print(k,v,d[k,v])"
   ]
  },
  {
   "cell_type": "code",
   "execution_count": null,
   "metadata": {},
   "outputs": [],
   "source": []
  }
 ],
 "metadata": {
  "kernelspec": {
   "display_name": "Python 3",
   "language": "python",
   "name": "python3"
  },
  "language_info": {
   "codemirror_mode": {
    "name": "ipython",
    "version": 3
   },
   "file_extension": ".py",
   "mimetype": "text/x-python",
   "name": "python",
   "nbconvert_exporter": "python",
   "pygments_lexer": "ipython3",
   "version": "3.8.1"
  }
 },
 "nbformat": 4,
 "nbformat_minor": 4
}
